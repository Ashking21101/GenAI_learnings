{
 "cells": [
  {
   "cell_type": "code",
   "execution_count": 26,
   "id": "44f33a16",
   "metadata": {},
   "outputs": [
    {
     "data": {
      "text/plain": [
       "True"
      ]
     },
     "execution_count": 26,
     "metadata": {},
     "output_type": "execute_result"
    }
   ],
   "source": [
    "import os\n",
    "from dotenv import load_dotenv\n",
    "load_dotenv()"
   ]
  },
  {
   "cell_type": "code",
   "execution_count": 27,
   "id": "8f0bb87d",
   "metadata": {},
   "outputs": [
    {
     "data": {
      "text/plain": [
       "ChatGroq(client=<groq.resources.chat.completions.Completions object at 0x000001F9DFCF8790>, async_client=<groq.resources.chat.completions.AsyncCompletions object at 0x000001F9DFCE66B0>, model_name='Llama3-8b-8192', model_kwargs={}, groq_api_key=SecretStr('**********'))"
      ]
     },
     "execution_count": 27,
     "metadata": {},
     "output_type": "execute_result"
    }
   ],
   "source": [
    "from langchain_groq import ChatGroq\n",
    "\n",
    "groq_api_key = os.getenv(\"GROQ_API_KEY\")\n",
    "os.environ[\"HF_TOKEN\"] = os.getenv(\"HF_TOKEN\")\n",
    "\n",
    "llm = ChatGroq(groq_api_key=groq_api_key, model=\"Llama3-8b-8192\")\n",
    "llm"
   ]
  },
  {
   "cell_type": "markdown",
   "id": "05e42b5d",
   "metadata": {},
   "source": [
    "langchain_huggingace and setence_transformers is in requirements.txt\n",
    "\n",
    "using the 'all-MiniLM-L6-2' becomes easy when we hae sentenceTransformer installed\n",
    "\n",
    "and also MiniLM is a sentence transformer only\n"
   ]
  },
  {
   "cell_type": "code",
   "execution_count": 28,
   "id": "d95bb013",
   "metadata": {},
   "outputs": [
    {
     "data": {
      "text/plain": [
       "HuggingFaceEmbeddings(model_name='all-MiniLM-L6-v2', cache_folder=None, model_kwargs={}, encode_kwargs={}, query_encode_kwargs={}, multi_process=False, show_progress=False)"
      ]
     },
     "execution_count": 28,
     "metadata": {},
     "output_type": "execute_result"
    }
   ],
   "source": [
    "from langchain_huggingface import HuggingFaceEmbeddings\n",
    "embeddings = HuggingFaceEmbeddings(model_name = \"all-MiniLM-L6-v2\")\n",
    "embeddings"
   ]
  },
  {
   "cell_type": "markdown",
   "id": "0648c693",
   "metadata": {},
   "source": [
    "Documents\n",
    "\n",
    "1. page_content\n",
    "2. metadata"
   ]
  },
  {
   "cell_type": "code",
   "execution_count": 29,
   "id": "a2b67f9c",
   "metadata": {},
   "outputs": [
    {
     "data": {
      "text/plain": [
       "[Document(metadata={'source': 'Wikipedia', 'topic': 'AI', 'page': 1}, page_content='Artificial Intelligence is the simulation of human intelligence in machines.'),\n",
       " Document(metadata={'source': 'Encyclopedia Britannica', 'topic': 'ML', 'page': 2}, page_content='Machine learning is a subset of AI focused on algorithms that improve over time.'),\n",
       " Document(metadata={'source': 'Research Paper', 'topic': 'Deep Learning', 'page': 3}, page_content='Deep learning uses neural networks with many layers to model complex patterns in data.'),\n",
       " Document(metadata={'source': 'Tech Blog', 'topic': 'NLP', 'page': 4}, page_content='Natural language processing allows machines to understand and generate human language.'),\n",
       " Document(metadata={'source': 'AI Magazine', 'topic': 'Computer Vision', 'page': 5}, page_content='Computer vision enables systems to interpret and process visual information from the world.'),\n",
       " Document(metadata={'source': 'Online Course', 'topic': 'RL', 'page': 6}, page_content='Reinforcement learning is a paradigm where agents learn by receiving rewards or penalties.')]"
      ]
     },
     "execution_count": 29,
     "metadata": {},
     "output_type": "execute_result"
    }
   ],
   "source": [
    "from langchain_core.documents import Document\n",
    "\n",
    "docs = [\n",
    "    Document(\n",
    "        page_content=\"Artificial Intelligence is the simulation of human intelligence in machines.\",\n",
    "        metadata={\"source\": \"Wikipedia\", \"topic\": \"AI\", \"page\": 1}\n",
    "    ),\n",
    "    Document(\n",
    "        page_content=\"Machine learning is a subset of AI focused on algorithms that improve over time.\",\n",
    "        metadata={\"source\": \"Encyclopedia Britannica\", \"topic\": \"ML\", \"page\": 2}\n",
    "    ),\n",
    "    Document(\n",
    "        page_content=\"Deep learning uses neural networks with many layers to model complex patterns in data.\",\n",
    "        metadata={\"source\": \"Research Paper\", \"topic\": \"Deep Learning\", \"page\": 3}\n",
    "    ),\n",
    "    Document(\n",
    "        page_content=\"Natural language processing allows machines to understand and generate human language.\",\n",
    "        metadata={\"source\": \"Tech Blog\", \"topic\": \"NLP\", \"page\": 4}\n",
    "    ),\n",
    "    Document(\n",
    "        page_content=\"Computer vision enables systems to interpret and process visual information from the world.\",\n",
    "        metadata={\"source\": \"AI Magazine\", \"topic\": \"Computer Vision\", \"page\": 5}\n",
    "    ),\n",
    "    Document(\n",
    "        page_content=\"Reinforcement learning is a paradigm where agents learn by receiving rewards or penalties.\",\n",
    "        metadata={\"source\": \"Online Course\", \"topic\": \"RL\", \"page\": 6}\n",
    "    )\n",
    "]\n",
    "\n",
    "\n",
    "docs"
   ]
  },
  {
   "cell_type": "code",
   "execution_count": 30,
   "id": "6e8ce1a3",
   "metadata": {},
   "outputs": [
    {
     "name": "stderr",
     "output_type": "stream",
     "text": [
      "d:\\GenAI\\genv\\lib\\site-packages\\torch\\nn\\modules\\module.py:1762: FutureWarning: `encoder_attention_mask` is deprecated and will be removed in version 4.55.0 for `BertSdpaSelfAttention.forward`.\n",
      "  return forward_call(*args, **kwargs)\n"
     ]
    },
    {
     "data": {
      "text/plain": [
       "<langchain_chroma.vectorstores.Chroma at 0x1f9dfd13d60>"
      ]
     },
     "execution_count": 30,
     "metadata": {},
     "output_type": "execute_result"
    }
   ],
   "source": [
    "from langchain_chroma import Chroma\n",
    "vectorstore = Chroma.from_documents(docs, embeddings)\n",
    "vectorstore"
   ]
  },
  {
   "cell_type": "code",
   "execution_count": 31,
   "id": "3e8800a6",
   "metadata": {},
   "outputs": [
    {
     "data": {
      "text/plain": [
       "[Document(id='b7043fb8-a072-4fac-8c7f-08d9c53d0e8a', metadata={'source': 'Wikipedia', 'topic': 'AI', 'page': 1}, page_content='Artificial Intelligence is the simulation of human intelligence in machines.'),\n",
       " Document(id='22a89554-0107-4eb3-9b61-0773581e50f5', metadata={'page': 1, 'source': 'Wikipedia', 'topic': 'AI'}, page_content='Artificial Intelligence is the simulation of human intelligence in machines.'),\n",
       " Document(id='64774d94-4557-4627-ac98-a79ef9689bc9', metadata={'source': 'Encyclopedia Britannica', 'page': 2, 'topic': 'ML'}, page_content='Machine learning is a subset of AI focused on algorithms that improve over time.'),\n",
       " Document(id='75030ba5-0d3f-4698-a81e-7b4cdf2ea024', metadata={'topic': 'ML', 'page': 2, 'source': 'Encyclopedia Britannica'}, page_content='Machine learning is a subset of AI focused on algorithms that improve over time.')]"
      ]
     },
     "execution_count": 31,
     "metadata": {},
     "output_type": "execute_result"
    }
   ],
   "source": [
    "vectorstore.similarity_search('AI')"
   ]
  },
  {
   "cell_type": "markdown",
   "id": "be662cd2",
   "metadata": {},
   "source": [
    "Async qury"
   ]
  },
  {
   "cell_type": "code",
   "execution_count": 32,
   "id": "6d3a5be7",
   "metadata": {},
   "outputs": [
    {
     "data": {
      "text/plain": [
       "[Document(id='b7043fb8-a072-4fac-8c7f-08d9c53d0e8a', metadata={'topic': 'AI', 'page': 1, 'source': 'Wikipedia'}, page_content='Artificial Intelligence is the simulation of human intelligence in machines.'),\n",
       " Document(id='22a89554-0107-4eb3-9b61-0773581e50f5', metadata={'source': 'Wikipedia', 'topic': 'AI', 'page': 1}, page_content='Artificial Intelligence is the simulation of human intelligence in machines.'),\n",
       " Document(id='64774d94-4557-4627-ac98-a79ef9689bc9', metadata={'page': 2, 'topic': 'ML', 'source': 'Encyclopedia Britannica'}, page_content='Machine learning is a subset of AI focused on algorithms that improve over time.'),\n",
       " Document(id='75030ba5-0d3f-4698-a81e-7b4cdf2ea024', metadata={'topic': 'ML', 'page': 2, 'source': 'Encyclopedia Britannica'}, page_content='Machine learning is a subset of AI focused on algorithms that improve over time.')]"
      ]
     },
     "execution_count": 32,
     "metadata": {},
     "output_type": "execute_result"
    }
   ],
   "source": [
    "await vectorstore.asimilarity_search('AI')"
   ]
  },
  {
   "cell_type": "markdown",
   "id": "82055874",
   "metadata": {},
   "source": [
    "# Retriever\n",
    "\n",
    "vectorstores are not part of runnable  and cnt direclty used in LCEL, there is a workaround, ues as_retriever , its a runnable"
   ]
  },
  {
   "cell_type": "code",
   "execution_count": 33,
   "id": "317fd0bc",
   "metadata": {},
   "outputs": [],
   "source": [
    "from typing import List\n",
    "from langchain_core.documents import Document\n",
    "from langchain_core.runnables import RunnableLambda"
   ]
  },
  {
   "cell_type": "code",
   "execution_count": null,
   "id": "b1d62a8b",
   "metadata": {},
   "outputs": [
    {
     "name": "stderr",
     "output_type": "stream",
     "text": [
      "d:\\GenAI\\genv\\lib\\site-packages\\torch\\nn\\modules\\module.py:1762: FutureWarning: `encoder_attention_mask` is deprecated and will be removed in version 4.55.0 for `BertSdpaSelfAttention.forward`.\n",
      "  return forward_call(*args, **kwargs)\n"
     ]
    },
    {
     "data": {
      "text/plain": [
       "[[Document(id='b7043fb8-a072-4fac-8c7f-08d9c53d0e8a', metadata={'source': 'Wikipedia', 'topic': 'AI', 'page': 1}, page_content='Artificial Intelligence is the simulation of human intelligence in machines.')],\n",
       " [Document(id='18ce09bb-1c10-4da7-b837-655fd4859fb1', metadata={'topic': 'NLP', 'page': 4, 'source': 'Tech Blog'}, page_content='Natural language processing allows machines to understand and generate human language.')]]"
      ]
     },
     "execution_count": 34,
     "metadata": {},
     "output_type": "execute_result"
    }
   ],
   "source": [
    "# METHOD 1\n",
    "retriever = RunnableLambda(vectorstore.similarity_search).bind(k=1)# top 1 sim search bot all words/query in batch\n",
    "retriever.batch([\"AI\", \"nlp\"])"
   ]
  },
  {
   "cell_type": "code",
   "execution_count": null,
   "id": "d639f29f",
   "metadata": {},
   "outputs": [
    {
     "name": "stderr",
     "output_type": "stream",
     "text": [
      "d:\\GenAI\\genv\\lib\\site-packages\\torch\\nn\\modules\\module.py:1762: FutureWarning: `encoder_attention_mask` is deprecated and will be removed in version 4.55.0 for `BertSdpaSelfAttention.forward`.\n",
      "  return forward_call(*args, **kwargs)\n"
     ]
    },
    {
     "data": {
      "text/plain": [
       "[[Document(id='b7043fb8-a072-4fac-8c7f-08d9c53d0e8a', metadata={'source': 'Wikipedia', 'page': 1, 'topic': 'AI'}, page_content='Artificial Intelligence is the simulation of human intelligence in machines.')],\n",
       " [Document(id='64774d94-4557-4627-ac98-a79ef9689bc9', metadata={'source': 'Encyclopedia Britannica', 'page': 2, 'topic': 'ML'}, page_content='Machine learning is a subset of AI focused on algorithms that improve over time.')]]"
      ]
     },
     "execution_count": 36,
     "metadata": {},
     "output_type": "execute_result"
    }
   ],
   "source": [
    "# METHOD 2 , more used \n",
    "retriever = vectorstore.as_retriever(\n",
    "    search_type = \"similarity\",\n",
    "    search_kwargs = {\"k\":1}# top 1 for all word/query\n",
    ")\n",
    "\n",
    "retriever.batch([\"AI\",\"ML\"])\n",
    "\n",
    "\n",
    "\n",
    "\n",
    "\n",
    "# demo\n",
    "#retriever = db.as_retriever()  \n",
    "#doc2 = retriever.invoke(query)\n",
    "#doc2"
   ]
  },
  {
   "cell_type": "markdown",
   "id": "6afa97e1",
   "metadata": {},
   "source": [
    "---------------------"
   ]
  },
  {
   "cell_type": "markdown",
   "id": "e4a0c32a",
   "metadata": {},
   "source": [
    "# Basic Rag"
   ]
  },
  {
   "cell_type": "code",
   "execution_count": 37,
   "id": "52a635c6",
   "metadata": {},
   "outputs": [
    {
     "name": "stderr",
     "output_type": "stream",
     "text": [
      "d:\\GenAI\\genv\\lib\\site-packages\\torch\\nn\\modules\\module.py:1762: FutureWarning: `encoder_attention_mask` is deprecated and will be removed in version 4.55.0 for `BertSdpaSelfAttention.forward`.\n",
      "  return forward_call(*args, **kwargs)\n"
     ]
    },
    {
     "name": "stdout",
     "output_type": "stream",
     "text": [
      "According to the provided context, Artificial Intelligence (AI) is the simulation of human intelligence in machines.\n"
     ]
    }
   ],
   "source": [
    "from langchain_core.prompts import ChatPromptTemplate\n",
    "from langchain_core.runnables import RunnablePassthrough\n",
    "\n",
    "message = \"\"\"\n",
    "answer this question using the provided context only.\n",
    "{question}\n",
    "context:{context}\n",
    "\"\"\"\n",
    "\n",
    "\n",
    "prompt = ChatPromptTemplate.from_messages([(\"human\", message)])\n",
    "\n",
    "rag_chain = {\"context\": retriever, \"question\":RunnablePassthrough()} | prompt | llm\n",
    "\n",
    "response = rag_chain.invoke(\"tell me about AI\")\n",
    "print(response.content)"
   ]
  },
  {
   "cell_type": "code",
   "execution_count": null,
   "id": "a86d0eb4",
   "metadata": {},
   "outputs": [],
   "source": []
  }
 ],
 "metadata": {
  "kernelspec": {
   "display_name": "Python 3",
   "language": "python",
   "name": "python3"
  },
  "language_info": {
   "codemirror_mode": {
    "name": "ipython",
    "version": 3
   },
   "file_extension": ".py",
   "mimetype": "text/x-python",
   "name": "python",
   "nbconvert_exporter": "python",
   "pygments_lexer": "ipython3",
   "version": "3.10.0"
  }
 },
 "nbformat": 4,
 "nbformat_minor": 5
}
