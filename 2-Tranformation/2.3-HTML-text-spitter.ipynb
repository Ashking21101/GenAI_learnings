{
 "cells": [
  {
   "cell_type": "code",
   "execution_count": 2,
   "id": "40951e6c",
   "metadata": {},
   "outputs": [],
   "source": [
    "from langchain_text_splitters import HTMLHeaderTextSplitter"
   ]
  },
  {
   "cell_type": "code",
   "execution_count": 9,
   "id": "3baa22d3",
   "metadata": {},
   "outputs": [],
   "source": [
    "html_string = \"\"\"<!DOCTYPE html>\n",
    "<html>\n",
    "<head>\n",
    "    <title>Text-Heavy Demo HTML</title>\n",
    "</head>\n",
    "<body>\n",
    "    <h1>Demo HTML Page Full of Text</h1>\n",
    "\n",
    "    <h2>Lorem ipsum dolor sit amet, consectetur adipiscing elit. Sed non risus. Suspendisse lectus tortor, dignissim sit amet, adipiscing nec, ultricies sed, dolor.</h2>\n",
    "    <h3>Cras elementum ultrices diam. Maecenas ligula massa, varius a, semper congue, euismod non, mi.</h3>\n",
    "    <h4>Proin porttitor, orci nec nonummy molestie, enim est eleifend mi, non fermentum diam nisl sit amet erat.</h4>\n",
    "    \n",
    "</body>\n",
    "</html>\n",
    "\"\"\""
   ]
  },
  {
   "cell_type": "code",
   "execution_count": null,
   "id": "615cfc63",
   "metadata": {},
   "outputs": [
    {
     "data": {
      "text/plain": [
       "[Document(metadata={'header 1': 'Demo HTML Page Full of Text'}, page_content='Demo HTML Page Full of Text'),\n",
       " Document(metadata={'header 1': 'Demo HTML Page Full of Text', 'header 2': 'Lorem ipsum dolor sit amet, consectetur adipiscing elit. Sed non risus. Suspendisse lectus tortor, dignissim sit amet, adipiscing nec, ultricies sed, dolor.'}, page_content='Lorem ipsum dolor sit amet, consectetur adipiscing elit. Sed non risus. Suspendisse lectus tortor, dignissim sit amet, adipiscing nec, ultricies sed, dolor.'),\n",
       " Document(metadata={'header 1': 'Demo HTML Page Full of Text', 'header 2': 'Lorem ipsum dolor sit amet, consectetur adipiscing elit. Sed non risus. Suspendisse lectus tortor, dignissim sit amet, adipiscing nec, ultricies sed, dolor.', 'header 3': 'Cras elementum ultrices diam. Maecenas ligula massa, varius a, semper congue, euismod non, mi.'}, page_content='Cras elementum ultrices diam. Maecenas ligula massa, varius a, semper congue, euismod non, mi.'),\n",
       " Document(metadata={'header 1': 'Demo HTML Page Full of Text', 'header 2': 'Lorem ipsum dolor sit amet, consectetur adipiscing elit. Sed non risus. Suspendisse lectus tortor, dignissim sit amet, adipiscing nec, ultricies sed, dolor.', 'header 3': 'Cras elementum ultrices diam. Maecenas ligula massa, varius a, semper congue, euismod non, mi.', 'header 4': 'Proin porttitor, orci nec nonummy molestie, enim est eleifend mi, non fermentum diam nisl sit amet erat.'}, page_content='Proin porttitor, orci nec nonummy molestie, enim est eleifend mi, non fermentum diam nisl sit amet erat.')]"
      ]
     },
     "execution_count": 10,
     "metadata": {},
     "output_type": "execute_result"
    }
   ],
   "source": [
    "header_to_split_on = [\n",
    "    (\"h1\", \"header 1\"),\n",
    "    (\"h2\", \"header 2\"),\n",
    "    (\"h3\", \"header 3\"),\n",
    "    (\"h4\", \"header 4\"),\n",
    "]\n",
    "\n",
    "html_splitter = HTMLHeaderTextSplitter(headers_to_split_on=header_to_split_on,)\n",
    "html_header_splits = html_splitter.split_text(html_string)\n",
    "html_header_splits\n",
    "# The output will be a list of text segments split by the specified headers.\n",
    "# Each segment will be a string containing the text between the specified headers.  \n",
    "\n"
   ]
  }
 ],
 "metadata": {
  "kernelspec": {
   "display_name": "Python 3",
   "language": "python",
   "name": "python3"
  },
  "language_info": {
   "codemirror_mode": {
    "name": "ipython",
    "version": 3
   },
   "file_extension": ".py",
   "mimetype": "text/x-python",
   "name": "python",
   "nbconvert_exporter": "python",
   "pygments_lexer": "ipython3",
   "version": "3.10.0"
  }
 },
 "nbformat": 4,
 "nbformat_minor": 5
}
