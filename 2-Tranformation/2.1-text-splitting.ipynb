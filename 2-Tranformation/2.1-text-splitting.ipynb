{
 "cells": [
  {
   "cell_type": "markdown",
   "id": "a2c98747",
   "metadata": {},
   "source": [
    "# text splitting"
   ]
  },
  {
   "cell_type": "code",
   "execution_count": 2,
   "id": "b5d1e651",
   "metadata": {},
   "outputs": [
    {
     "data": {
      "text/plain": [
       "[Document(metadata={'producer': 'Adobe PDF Library 10.0', 'creator': 'Acrobat PDFMaker 10.1 for Word', 'creationdate': '2015-02-25T11:08:01-05:00', 'author': 'Sasha Rolon-Pereira', 'moddate': '2015-02-25T11:08:44-05:00', 'title': 'Martin Luther King Jr.pdf', 'source': 'king.dreamspeech.excerpts.pdf', 'total_pages': 2, 'page': 0, 'page_label': '1'}, page_content='©2014 The Gilder Lehrman Institute of American History \\nwww.gilderlehrman.org \\n“I Have a Dream” Speech by the Rev. Martin Luther King Jr. at the “March on Washington,” \\n1963 (excerpts ) \\n \\nI am happy to join with you today in what will go down in history as the greatest demonstration for \\nfreedom in the history of our nation. \\nFive score years ago a great American in whose symbolic shadow we stand today signed the \\nEmancipation Proclamation. This momentous decree is a great beacon light of hope to millions of Negro \\nslaves who had been seared in the flames of withering injustice. It came as a joyous daybreak to end the \\nlong night of their captivity. But 100 years later the Negro still is not free. One hundred years later the \\nlife of the Negro is still badly crippled by the manacles of segregation and the chains of discrimination. \\nOne hundred years later the Negro lives on a lonely island of poverty in the midst of a vast ocean of \\nmaterial prosperity. One hundred years later the Negro is still languished in the corners of American \\nsociety and finds himself in exile in his own land. So we’ve come here today to dramatize a shameful \\ncondition. \\nIn a sense we’ve come to our nation’s capital to cash a check. When the architects of our Republic wrote \\nthe magnificent words of the Constitution and the Declaration of Independence, they were signing a \\npromissory note to which every American was to fall heir. This note was a promise that all men—yes, \\nblack men as well as white men—would be guaranteed the unalienable rights of life, liberty and the \\npursuit of happiness. . . . \\nWe must forever conduct our struggle on the high plane of dignity and discipline. We must not allow our \\ncreative protests to degenerate into physical violence. . . . The marvelous new militancy which has \\nengulfed the Negro community must not lead us to distrust all white people, for many of our white \\nbrothers, as evidenced by their presence here today, have come to realize that their destiny is tied up \\nwith our destiny. \\n. . . We cannot walk alone. And as we walk we must make the pledge that we shall always march ahead. \\nWe cannot turn back. There are those who are asking the devotees of civil rights, “When will you be \\nsatisfied?” We can never be satisfied as long as the Negro is the victim of the unspeakable horrors of \\npolice brutality. \\nWe can never be satisfied as long as our bodies, heavy with the fatigue of travel, cannot gain lodging in \\nthe motels of the highways and the hotels of the cities. \\nWe cannot be satisfied as long as the Negro’s basic mobility is from a smaller ghetto to a larger one. We \\ncan never be satisfied as long as our children are stripped of their adulthood and robbed of their dignity \\nby signs stating “For Whites Only.” \\nWe cannot be satisfied as long as the Negro in Mississippi cannot vote and the Negro in New York \\nbelieves he has nothing for which to vote. \\nNo, no, we are not satisfied, and we will not be satisfied until justice rolls down like waters and \\nrighteousness like a mighty stream. . . . \\nI say to you today, my friends, though, even though we face the difficulties of today and tomorrow, I still'),\n",
       " Document(metadata={'producer': 'Adobe PDF Library 10.0', 'creator': 'Acrobat PDFMaker 10.1 for Word', 'creationdate': '2015-02-25T11:08:01-05:00', 'author': 'Sasha Rolon-Pereira', 'moddate': '2015-02-25T11:08:44-05:00', 'title': 'Martin Luther King Jr.pdf', 'source': 'king.dreamspeech.excerpts.pdf', 'total_pages': 2, 'page': 1, 'page_label': '2'}, page_content='©2014 The Gilder Lehrman Institute of American History \\nwww.gilderlehrman.org \\nhave a dream. It is a dream deeply rooted in the American dream. I have a dream that one day this \\nnation will rise up, live out the true meaning of its creed: “We hold these truths to be self-evident, that \\nall men are created equal.” \\nI have a dream that one day on the red hills of Georgia sons of former slaves and the sons of former \\nslave-owners will be able to sit down together at the table of brotherhood. I have a dream that one day \\neven the state of Mississippi, a state sweltering with the heat of injustice, sweltering with the heat of \\noppression, will be transformed into an oasis of freedom and justice. \\nI have a dream that my four little children will one day live in a nation where they will not be judged by \\nthe color of their skin but by the content of their character. I have a dream . . . I have a dream that one \\nday in Alabama, with its vicious racists, with its governor having his lips dripping with the words of \\ninterposition and nullification, one day right there in Alabama little black boys and black girls will be able \\nto join hands with little white boys and white girls as sisters and brothers. \\nI have a dream today . . . \\nThis will be the day when all of God’s children will be able to sing with new meaning. “My country, ’tis of \\nthee, sweet land of liberty, of thee I sing. Land where my fathers died, land of the pilgrim’s pride, from \\nevery mountain side, let freedom ring.” And if America is to be a great nation, this must become true. So \\nlet freedom ring from the prodigious hilltops of New Hampshire. Let freedom ring from the mighty \\nmountains of New York. Let freedom ring from the heightening Alleghenies of Pennsylvania. Let \\nfreedom ring from the snowcapped Rockies of Colorado. Let freedom ring from the curvaceous slopes of \\nCalifornia. \\nBut not only that. Let freedom ring from Stone Mountain of Georgia. Let freedom ring from Lookout \\nMountain of Tennessee. Let freedom ring from every hill and molehill of Mississippi, from every \\nmountain side. Let freedom ring . . . \\nWhen we allow freedom to ring—when we let it ring from every city and every hamlet, from every state \\nand every city, we will be able to speed up that day when all of God’s children, black men and white \\nmen, Jews and Gentiles, Protestants and Catholics, will be able to join hands and sing in the words of the \\nold Negro spiritual, “Free at last, Free at last, Great God a-mighty, We are free at last.” \\n \\n \\nReprinted by arrangement with The Heirs to the Estate of Martin Luther King Jr., c/o Writers House as the \\nproprietor New York, NY. Copyright: © 1963 Dr. Martin Luther King Jr. © renewed 1991 Coretta Scott King.')]"
      ]
     },
     "execution_count": 2,
     "metadata": {},
     "output_type": "execute_result"
    }
   ],
   "source": [
    "## reading a pdf file\n",
    "from langchain_community.document_loaders import PyPDFLoader\n",
    "loader = PyPDFLoader(r'king.dreamspeech.excerpts.pdf')\n",
    "docs= loader.load()\n",
    "docs"
   ]
  },
  {
   "cell_type": "code",
   "execution_count": 3,
   "id": "e2508951",
   "metadata": {},
   "outputs": [
    {
     "data": {
      "text/plain": [
       "langchain_core.documents.base.Document"
      ]
     },
     "execution_count": 3,
     "metadata": {},
     "output_type": "execute_result"
    }
   ],
   "source": [
    "type(docs[0])# its a Document object"
   ]
  },
  {
   "cell_type": "code",
   "execution_count": 4,
   "id": "c608abe2",
   "metadata": {},
   "outputs": [
    {
     "data": {
      "text/plain": [
       "[Document(metadata={'producer': 'Adobe PDF Library 10.0', 'creator': 'Acrobat PDFMaker 10.1 for Word', 'creationdate': '2015-02-25T11:08:01-05:00', 'author': 'Sasha Rolon-Pereira', 'moddate': '2015-02-25T11:08:44-05:00', 'title': 'Martin Luther King Jr.pdf', 'source': 'king.dreamspeech.excerpts.pdf', 'total_pages': 2, 'page': 0, 'page_label': '1'}, page_content='©2014 The Gilder Lehrman Institute of American History \\nwww.gilderlehrman.org \\n“I Have a Dream” Speech by the Rev. Martin Luther King Jr. at the “March on Washington,” \\n1963 (excerpts ) \\n \\nI am happy to join with you today in what will go down in history as the greatest demonstration for \\nfreedom in the history of our nation. \\nFive score years ago a great American in whose symbolic shadow we stand today signed the'),\n",
       " Document(metadata={'producer': 'Adobe PDF Library 10.0', 'creator': 'Acrobat PDFMaker 10.1 for Word', 'creationdate': '2015-02-25T11:08:01-05:00', 'author': 'Sasha Rolon-Pereira', 'moddate': '2015-02-25T11:08:44-05:00', 'title': 'Martin Luther King Jr.pdf', 'source': 'king.dreamspeech.excerpts.pdf', 'total_pages': 2, 'page': 0, 'page_label': '1'}, page_content='Emancipation Proclamation. This momentous decree is a great beacon light of hope to millions of Negro \\nslaves who had been seared in the flames of withering injustice. It came as a joyous daybreak to end the \\nlong night of their captivity. But 100 years later the Negro still is not free. One hundred years later the \\nlife of the Negro is still badly crippled by the manacles of segregation and the chains of discrimination.'),\n",
       " Document(metadata={'producer': 'Adobe PDF Library 10.0', 'creator': 'Acrobat PDFMaker 10.1 for Word', 'creationdate': '2015-02-25T11:08:01-05:00', 'author': 'Sasha Rolon-Pereira', 'moddate': '2015-02-25T11:08:44-05:00', 'title': 'Martin Luther King Jr.pdf', 'source': 'king.dreamspeech.excerpts.pdf', 'total_pages': 2, 'page': 0, 'page_label': '1'}, page_content='One hundred years later the Negro lives on a lonely island of poverty in the midst of a vast ocean of \\nmaterial prosperity. One hundred years later the Negro is still languished in the corners of American \\nsociety and finds himself in exile in his own land. So we’ve come here today to dramatize a shameful \\ncondition. \\nIn a sense we’ve come to our nation’s capital to cash a check. When the architects of our Republic wrote'),\n",
       " Document(metadata={'producer': 'Adobe PDF Library 10.0', 'creator': 'Acrobat PDFMaker 10.1 for Word', 'creationdate': '2015-02-25T11:08:01-05:00', 'author': 'Sasha Rolon-Pereira', 'moddate': '2015-02-25T11:08:44-05:00', 'title': 'Martin Luther King Jr.pdf', 'source': 'king.dreamspeech.excerpts.pdf', 'total_pages': 2, 'page': 0, 'page_label': '1'}, page_content='the magnificent words of the Constitution and the Declaration of Independence, they were signing a \\npromissory note to which every American was to fall heir. This note was a promise that all men—yes, \\nblack men as well as white men—would be guaranteed the unalienable rights of life, liberty and the \\npursuit of happiness. . . . \\nWe must forever conduct our struggle on the high plane of dignity and discipline. We must not allow our'),\n",
       " Document(metadata={'producer': 'Adobe PDF Library 10.0', 'creator': 'Acrobat PDFMaker 10.1 for Word', 'creationdate': '2015-02-25T11:08:01-05:00', 'author': 'Sasha Rolon-Pereira', 'moddate': '2015-02-25T11:08:44-05:00', 'title': 'Martin Luther King Jr.pdf', 'source': 'king.dreamspeech.excerpts.pdf', 'total_pages': 2, 'page': 0, 'page_label': '1'}, page_content='creative protests to degenerate into physical violence. . . . The marvelous new militancy which has \\nengulfed the Negro community must not lead us to distrust all white people, for many of our white \\nbrothers, as evidenced by their presence here today, have come to realize that their destiny is tied up \\nwith our destiny. \\n. . . We cannot walk alone. And as we walk we must make the pledge that we shall always march ahead.'),\n",
       " Document(metadata={'producer': 'Adobe PDF Library 10.0', 'creator': 'Acrobat PDFMaker 10.1 for Word', 'creationdate': '2015-02-25T11:08:01-05:00', 'author': 'Sasha Rolon-Pereira', 'moddate': '2015-02-25T11:08:44-05:00', 'title': 'Martin Luther King Jr.pdf', 'source': 'king.dreamspeech.excerpts.pdf', 'total_pages': 2, 'page': 0, 'page_label': '1'}, page_content='We cannot turn back. There are those who are asking the devotees of civil rights, “When will you be \\nsatisfied?” We can never be satisfied as long as the Negro is the victim of the unspeakable horrors of \\npolice brutality. \\nWe can never be satisfied as long as our bodies, heavy with the fatigue of travel, cannot gain lodging in \\nthe motels of the highways and the hotels of the cities. \\nWe cannot be satisfied as long as the Negro’s basic mobility is from a smaller ghetto to a larger one. We'),\n",
       " Document(metadata={'producer': 'Adobe PDF Library 10.0', 'creator': 'Acrobat PDFMaker 10.1 for Word', 'creationdate': '2015-02-25T11:08:01-05:00', 'author': 'Sasha Rolon-Pereira', 'moddate': '2015-02-25T11:08:44-05:00', 'title': 'Martin Luther King Jr.pdf', 'source': 'king.dreamspeech.excerpts.pdf', 'total_pages': 2, 'page': 0, 'page_label': '1'}, page_content='can never be satisfied as long as our children are stripped of their adulthood and robbed of their dignity \\nby signs stating “For Whites Only.” \\nWe cannot be satisfied as long as the Negro in Mississippi cannot vote and the Negro in New York \\nbelieves he has nothing for which to vote. \\nNo, no, we are not satisfied, and we will not be satisfied until justice rolls down like waters and \\nrighteousness like a mighty stream. . . .'),\n",
       " Document(metadata={'producer': 'Adobe PDF Library 10.0', 'creator': 'Acrobat PDFMaker 10.1 for Word', 'creationdate': '2015-02-25T11:08:01-05:00', 'author': 'Sasha Rolon-Pereira', 'moddate': '2015-02-25T11:08:44-05:00', 'title': 'Martin Luther King Jr.pdf', 'source': 'king.dreamspeech.excerpts.pdf', 'total_pages': 2, 'page': 0, 'page_label': '1'}, page_content='righteousness like a mighty stream. . . . \\nI say to you today, my friends, though, even though we face the difficulties of today and tomorrow, I still'),\n",
       " Document(metadata={'producer': 'Adobe PDF Library 10.0', 'creator': 'Acrobat PDFMaker 10.1 for Word', 'creationdate': '2015-02-25T11:08:01-05:00', 'author': 'Sasha Rolon-Pereira', 'moddate': '2015-02-25T11:08:44-05:00', 'title': 'Martin Luther King Jr.pdf', 'source': 'king.dreamspeech.excerpts.pdf', 'total_pages': 2, 'page': 1, 'page_label': '2'}, page_content='©2014 The Gilder Lehrman Institute of American History \\nwww.gilderlehrman.org \\nhave a dream. It is a dream deeply rooted in the American dream. I have a dream that one day this \\nnation will rise up, live out the true meaning of its creed: “We hold these truths to be self-evident, that \\nall men are created equal.” \\nI have a dream that one day on the red hills of Georgia sons of former slaves and the sons of former'),\n",
       " Document(metadata={'producer': 'Adobe PDF Library 10.0', 'creator': 'Acrobat PDFMaker 10.1 for Word', 'creationdate': '2015-02-25T11:08:01-05:00', 'author': 'Sasha Rolon-Pereira', 'moddate': '2015-02-25T11:08:44-05:00', 'title': 'Martin Luther King Jr.pdf', 'source': 'king.dreamspeech.excerpts.pdf', 'total_pages': 2, 'page': 1, 'page_label': '2'}, page_content='slave-owners will be able to sit down together at the table of brotherhood. I have a dream that one day \\neven the state of Mississippi, a state sweltering with the heat of injustice, sweltering with the heat of \\noppression, will be transformed into an oasis of freedom and justice. \\nI have a dream that my four little children will one day live in a nation where they will not be judged by \\nthe color of their skin but by the content of their character. I have a dream . . . I have a dream that one'),\n",
       " Document(metadata={'producer': 'Adobe PDF Library 10.0', 'creator': 'Acrobat PDFMaker 10.1 for Word', 'creationdate': '2015-02-25T11:08:01-05:00', 'author': 'Sasha Rolon-Pereira', 'moddate': '2015-02-25T11:08:44-05:00', 'title': 'Martin Luther King Jr.pdf', 'source': 'king.dreamspeech.excerpts.pdf', 'total_pages': 2, 'page': 1, 'page_label': '2'}, page_content='day in Alabama, with its vicious racists, with its governor having his lips dripping with the words of \\ninterposition and nullification, one day right there in Alabama little black boys and black girls will be able \\nto join hands with little white boys and white girls as sisters and brothers. \\nI have a dream today . . . \\nThis will be the day when all of God’s children will be able to sing with new meaning. “My country, ’tis of'),\n",
       " Document(metadata={'producer': 'Adobe PDF Library 10.0', 'creator': 'Acrobat PDFMaker 10.1 for Word', 'creationdate': '2015-02-25T11:08:01-05:00', 'author': 'Sasha Rolon-Pereira', 'moddate': '2015-02-25T11:08:44-05:00', 'title': 'Martin Luther King Jr.pdf', 'source': 'king.dreamspeech.excerpts.pdf', 'total_pages': 2, 'page': 1, 'page_label': '2'}, page_content='thee, sweet land of liberty, of thee I sing. Land where my fathers died, land of the pilgrim’s pride, from \\nevery mountain side, let freedom ring.” And if America is to be a great nation, this must become true. So \\nlet freedom ring from the prodigious hilltops of New Hampshire. Let freedom ring from the mighty \\nmountains of New York. Let freedom ring from the heightening Alleghenies of Pennsylvania. Let'),\n",
       " Document(metadata={'producer': 'Adobe PDF Library 10.0', 'creator': 'Acrobat PDFMaker 10.1 for Word', 'creationdate': '2015-02-25T11:08:01-05:00', 'author': 'Sasha Rolon-Pereira', 'moddate': '2015-02-25T11:08:44-05:00', 'title': 'Martin Luther King Jr.pdf', 'source': 'king.dreamspeech.excerpts.pdf', 'total_pages': 2, 'page': 1, 'page_label': '2'}, page_content='freedom ring from the snowcapped Rockies of Colorado. Let freedom ring from the curvaceous slopes of \\nCalifornia. \\nBut not only that. Let freedom ring from Stone Mountain of Georgia. Let freedom ring from Lookout \\nMountain of Tennessee. Let freedom ring from every hill and molehill of Mississippi, from every \\nmountain side. Let freedom ring . . . \\nWhen we allow freedom to ring—when we let it ring from every city and every hamlet, from every state'),\n",
       " Document(metadata={'producer': 'Adobe PDF Library 10.0', 'creator': 'Acrobat PDFMaker 10.1 for Word', 'creationdate': '2015-02-25T11:08:01-05:00', 'author': 'Sasha Rolon-Pereira', 'moddate': '2015-02-25T11:08:44-05:00', 'title': 'Martin Luther King Jr.pdf', 'source': 'king.dreamspeech.excerpts.pdf', 'total_pages': 2, 'page': 1, 'page_label': '2'}, page_content='and every city, we will be able to speed up that day when all of God’s children, black men and white \\nmen, Jews and Gentiles, Protestants and Catholics, will be able to join hands and sing in the words of the \\nold Negro spiritual, “Free at last, Free at last, Great God a-mighty, We are free at last.” \\n \\n \\nReprinted by arrangement with The Heirs to the Estate of Martin Luther King Jr., c/o Writers House as the'),\n",
       " Document(metadata={'producer': 'Adobe PDF Library 10.0', 'creator': 'Acrobat PDFMaker 10.1 for Word', 'creationdate': '2015-02-25T11:08:01-05:00', 'author': 'Sasha Rolon-Pereira', 'moddate': '2015-02-25T11:08:44-05:00', 'title': 'Martin Luther King Jr.pdf', 'source': 'king.dreamspeech.excerpts.pdf', 'total_pages': 2, 'page': 1, 'page_label': '2'}, page_content='proprietor New York, NY. Copyright: © 1963 Dr. Martin Luther King Jr. © renewed 1991 Coretta Scott King.')]"
      ]
     },
     "execution_count": 4,
     "metadata": {},
     "output_type": "execute_result"
    }
   ],
   "source": [
    "# how to reurssively split the text by characters\n",
    "from langchain_text_splitters import RecursiveCharacterTextSplitter\n",
    "text_splitter = RecursiveCharacterTextSplitter(chunk_size=500, chunk_overlap=50)\n",
    "final_docs = text_splitter.split_documents(docs)\n",
    "final_docs\n",
    "# overlap is the number of characters that will be repeated in the next chunk "
   ]
  },
  {
   "cell_type": "code",
   "execution_count": 5,
   "id": "792d9feb",
   "metadata": {},
   "outputs": [
    {
     "name": "stdout",
     "output_type": "stream",
     "text": [
      "page_content='Emancipation Proclamation. This momentous decree is a great beacon light of hope to millions of Negro \n",
      "slaves who had been seared in the flames of withering injustice. It came as a joyous daybreak to end the \n",
      "long night of their captivity. But 100 years later the Negro still is not free. One hundred years later the \n",
      "life of the Negro is still badly crippled by the manacles of segregation and the chains of discrimination.' metadata={'producer': 'Adobe PDF Library 10.0', 'creator': 'Acrobat PDFMaker 10.1 for Word', 'creationdate': '2015-02-25T11:08:01-05:00', 'author': 'Sasha Rolon-Pereira', 'moddate': '2015-02-25T11:08:44-05:00', 'title': 'Martin Luther King Jr.pdf', 'source': 'king.dreamspeech.excerpts.pdf', 'total_pages': 2, 'page': 0, 'page_label': '1'}\n",
      "page_content='One hundred years later the Negro lives on a lonely island of poverty in the midst of a vast ocean of \n",
      "material prosperity. One hundred years later the Negro is still languished in the corners of American \n",
      "society and finds himself in exile in his own land. So we’ve come here today to dramatize a shameful \n",
      "condition. \n",
      "In a sense we’ve come to our nation’s capital to cash a check. When the architects of our Republic wrote' metadata={'producer': 'Adobe PDF Library 10.0', 'creator': 'Acrobat PDFMaker 10.1 for Word', 'creationdate': '2015-02-25T11:08:01-05:00', 'author': 'Sasha Rolon-Pereira', 'moddate': '2015-02-25T11:08:44-05:00', 'title': 'Martin Luther King Jr.pdf', 'source': 'king.dreamspeech.excerpts.pdf', 'total_pages': 2, 'page': 0, 'page_label': '1'}\n"
     ]
    }
   ],
   "source": [
    "print(final_docs[1])\n",
    "print(final_docs[2])"
   ]
  },
  {
   "cell_type": "code",
   "execution_count": 6,
   "id": "d9ed5a9c",
   "metadata": {},
   "outputs": [
    {
     "data": {
      "text/plain": [
       "[Document(metadata={'source': 'speeh.txt'}, page_content='I have a dream that one day every valley shall be exalted, every hill and mountain shall be made low, the rough places will be made plain, and the crooked places will be made straight; and the glory of the Lord shall be revealed, and all flesh shall see it together.\\n\\nThis is our hope. This is the faith that I go back to the South with.\\n\\nWith this faith, we will be able to hew out of the mountain of despair a stone of hope.')]"
      ]
     },
     "execution_count": 6,
     "metadata": {},
     "output_type": "execute_result"
    }
   ],
   "source": [
    "from langchain_community.document_loaders import TextLoader\n",
    "\n",
    "loader = TextLoader(r'speeh.txt')\n",
    "docs = loader.load()\n",
    "docs #this is a list of Document objects"
   ]
  },
  {
   "cell_type": "code",
   "execution_count": 7,
   "id": "31c164c0",
   "metadata": {},
   "outputs": [
    {
     "name": "stdout",
     "output_type": "stream",
     "text": [
      "[Document(metadata={}, page_content='I have a dream that one day every valley shall be exalted, every hill and mountain shall be made low, the rough places will be made plain, and the crooked places will be made straight; and the glory of the Lord shall be revealed, and all flesh shall see it together.\\n\\nThis is our hope. This is the faith that I go back to the South with.\\n\\nWith this faith, we will be able to hew out of the mountain of despair a stone of hope.')]\n"
     ]
    }
   ],
   "source": [
    "speech = \"\"\n",
    "with open(r'speeh.txt', 'r') as f:\n",
    "    speech = f.read()\n",
    "\n",
    "speech\n",
    "text_sliter = RecursiveCharacterTextSplitter(chunk_size = 10, chunk_overlap=3)\n",
    "text = text_splitter.create_documents([speech])\n",
    "print(text)"
   ]
  },
  {
   "cell_type": "code",
   "execution_count": 8,
   "id": "bf4c4a48",
   "metadata": {},
   "outputs": [
    {
     "name": "stdout",
     "output_type": "stream",
     "text": [
      "page_content='I have a dream that one day every valley shall be exalted, every hill and mountain shall be made low, the rough places will be made plain, and the crooked places will be made straight; and the glory of the Lord shall be revealed, and all flesh shall see it together.\n",
      "\n",
      "This is our hope. This is the faith that I go back to the South with.\n",
      "\n",
      "With this faith, we will be able to hew out of the mountain of despair a stone of hope.'\n"
     ]
    }
   ],
   "source": [
    "print(text[0])"
   ]
  },
  {
   "cell_type": "code",
   "execution_count": 9,
   "id": "61b86376",
   "metadata": {},
   "outputs": [
    {
     "data": {
      "text/plain": [
       "langchain_core.documents.base.Document"
      ]
     },
     "execution_count": 9,
     "metadata": {},
     "output_type": "execute_result"
    }
   ],
   "source": [
    "type(text[0]) # its a Document object"
   ]
  },
  {
   "cell_type": "code",
   "execution_count": null,
   "id": "4f473fce",
   "metadata": {},
   "outputs": [],
   "source": []
  }
 ],
 "metadata": {
  "kernelspec": {
   "display_name": "genv",
   "language": "python",
   "name": "python3"
  },
  "language_info": {
   "codemirror_mode": {
    "name": "ipython",
    "version": 3
   },
   "file_extension": ".py",
   "mimetype": "text/x-python",
   "name": "python",
   "nbconvert_exporter": "python",
   "pygments_lexer": "ipython3",
   "version": "3.10.0"
  }
 },
 "nbformat": 4,
 "nbformat_minor": 5
}
