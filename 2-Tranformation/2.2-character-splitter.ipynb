{
 "cells": [
  {
   "cell_type": "markdown",
   "id": "905dc940",
   "metadata": {},
   "source": [
    "# charater splitter"
   ]
  },
  {
   "cell_type": "code",
   "execution_count": 2,
   "id": "7951d010",
   "metadata": {},
   "outputs": [
    {
     "data": {
      "text/plain": [
       "[Document(metadata={'source': 'speeh.txt'}, page_content='I have a dream that one day every valley shall be exalted, every hill and mountain shall be made low, the rough places will be made plain, and the crooked places will be made straight; and the glory of the Lord shall be revealed, and all flesh shall see it together.\\n\\nThis is our hope. This is the faith that I go back to the South with.\\n\\nWith this faith, we will be able to hew out of the mountain of despair a stone of hope.')]"
      ]
     },
     "execution_count": 2,
     "metadata": {},
     "output_type": "execute_result"
    }
   ],
   "source": [
    "from langchain_community.document_loaders import TextLoader\n",
    "\n",
    "loader = TextLoader(r'speeh.txt')\n",
    "docs = loader.load()\n",
    "docs #this is a list of Document objects"
   ]
  },
  {
   "cell_type": "code",
   "execution_count": 3,
   "id": "8e0a3947",
   "metadata": {},
   "outputs": [
    {
     "name": "stderr",
     "output_type": "stream",
     "text": [
      "Created a chunk of size 266, which is longer than the specified 10\n",
      "Created a chunk of size 69, which is longer than the specified 10\n"
     ]
    },
    {
     "data": {
      "text/plain": [
       "[Document(metadata={'source': 'speeh.txt'}, page_content='I have a dream that one day every valley shall be exalted, every hill and mountain shall be made low, the rough places will be made plain, and the crooked places will be made straight; and the glory of the Lord shall be revealed, and all flesh shall see it together.'),\n",
       " Document(metadata={'source': 'speeh.txt'}, page_content='This is our hope. This is the faith that I go back to the South with.'),\n",
       " Document(metadata={'source': 'speeh.txt'}, page_content='With this faith, we will be able to hew out of the mountain of despair a stone of hope.')]"
      ]
     },
     "execution_count": 3,
     "metadata": {},
     "output_type": "execute_result"
    }
   ],
   "source": [
    "from langchain.text_splitter import CharacterTextSplitter\n",
    "text_splitter = CharacterTextSplitter(separator=\"\\n\\n\", chunk_size= 10, chunk_overlap=3)\n",
    "text_splitter.split_documents(docs)"
   ]
  },
  {
   "cell_type": "code",
   "execution_count": 4,
   "id": "6a79a62f",
   "metadata": {},
   "outputs": [
    {
     "name": "stderr",
     "output_type": "stream",
     "text": [
      "Created a chunk of size 266, which is longer than the specified 10\n",
      "Created a chunk of size 69, which is longer than the specified 10\n"
     ]
    },
    {
     "name": "stdout",
     "output_type": "stream",
     "text": [
      "page_content='I have a dream that one day every valley shall be exalted, every hill and mountain shall be made low, the rough places will be made plain, and the crooked places will be made straight; and the glory of the Lord shall be revealed, and all flesh shall see it together.'\n"
     ]
    },
    {
     "data": {
      "text/plain": [
       "langchain_core.documents.base.Document"
      ]
     },
     "execution_count": 4,
     "metadata": {},
     "output_type": "execute_result"
    }
   ],
   "source": [
    "with open(r'speeh.txt', 'r') as f:\n",
    "    text = f.read()\n",
    "\n",
    "text_splitter = CharacterTextSplitter(chunk_size = 10, chunk_overlap=3)\n",
    "text = text_splitter.create_documents([text])   \n",
    "print(text[0])\n",
    "type(text[0]) # its a Document object"
   ]
  },
  {
   "cell_type": "code",
   "execution_count": null,
   "id": "4cf78b16",
   "metadata": {},
   "outputs": [],
   "source": []
  }
 ],
 "metadata": {
  "kernelspec": {
   "display_name": "genv",
   "language": "python",
   "name": "python3"
  },
  "language_info": {
   "codemirror_mode": {
    "name": "ipython",
    "version": 3
   },
   "file_extension": ".py",
   "mimetype": "text/x-python",
   "name": "python",
   "nbconvert_exporter": "python",
   "pygments_lexer": "ipython3",
   "version": "3.10.0"
  }
 },
 "nbformat": 4,
 "nbformat_minor": 5
}
